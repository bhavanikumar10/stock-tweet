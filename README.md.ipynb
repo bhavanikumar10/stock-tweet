{
 "cells": [
  {
   "cell_type": "markdown",
   "metadata": {},
   "source": [
    "# Stock Tweet Group Project"
   ]
  },
  {
   "cell_type": "markdown",
   "metadata": {},
   "source": [
    "### Inspiration & Motivations\n",
    "\n",
    "* Social media is changing the way the world is interacting/communicating with each other. Companies are also influenced by the use of social media\n",
    "* To this end, we wanted to see if we could predict the movement of the stocks based on the sentiments of the stakeholders (company, users, investors, media, analysts).\n",
    "* We wanted to track the sentiments of what a company was tweeting and what was being tweeted about/at them.\n",
    "* We compared the sentiment analysis to hourly stock prices to see if there was any correlation.\n",
    "* If there is correlation, we thought it might be possible to predict stock activity!\n",
    "* We took a company from each market capitalization structure to study the influence of social analytics on their stock price movement.\n",
    "* We decided to focus on the tech industry because it seems to depend heavily on branding and user sentiment.\n",
    "* We chose Facebook for large-cap Stock, Nintendo for a mid-cap stock and MindBodyOnline for a small-cap stock.\n"
   ]
  },
  {
   "cell_type": "markdown",
   "metadata": {},
   "source": [
    "### Data Collection\n",
    "\n",
    "* We first started to collect tweets from Facebook, tweets directed to Facebook, tweets with #facebook.\n",
    "* As we were doing our research, we came across “cashtags”. They are similar to a regular hashtags, but specific to stock tickers. So we included them in our tweet gathering.\n",
    "* After getting all the tweets and graphing the data, we compared it to a graph of the stock activity for the day (from Yahoo Finance) and the stock performance over a period of time.\n",
    "* Then we selected a mid cap company (Nintendo) and a small cap company (MINDBODY), and gathered the same information.\n",
    "* Because there are such a vast amount of tweets and we only had so much time, we only grabbed data for three days for Facebook and two days for the other company.\n",
    "* With more time (and more efficient code) we would have a better idea of what the data is saying and how to apply that to stock prices.\n"
   ]
  },
  {
   "cell_type": "markdown",
   "metadata": {},
   "source": [
    "### What We Learned...\n",
    "\n",
    "* On some of the days, public sentiment did loosely correlate with intraday movements in the stock price, which suggests that there is potential in social analytics to gain some insight into intraday stock performance.\n",
    "* Many more variables would need to be included in any predictive model that considers social analytics.\n",
    "    * For example, second-by-second trading and minute-by-minute stock prices would be very useful, but this data is very expensive.\n",
    "* Ultimately, there are good reasons to be interested in this type of analysis, but it would take a dedicated team of data scientists with access to institutional resources to effectively develop it."
   ]
  },
  {
   "cell_type": "code",
   "execution_count": null,
   "metadata": {},
   "outputs": [],
   "source": []
  }
 ],
 "metadata": {
  "kernelspec": {
   "display_name": "Python 3",
   "language": "python",
   "name": "python3"
  },
  "language_info": {
   "codemirror_mode": {
    "name": "ipython",
    "version": 3
   },
   "file_extension": ".py",
   "mimetype": "text/x-python",
   "name": "python",
   "nbconvert_exporter": "python",
   "pygments_lexer": "ipython3",
   "version": "3.6.4"
  }
 },
 "nbformat": 4,
 "nbformat_minor": 2
}
