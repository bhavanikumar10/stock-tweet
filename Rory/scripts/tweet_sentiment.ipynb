{
 "cells": [
  {
   "cell_type": "code",
   "execution_count": 29,
   "metadata": {},
   "outputs": [],
   "source": [
    "import csv\n",
    "import json\n",
    "import pandas as pd\n",
    "from vaderSentiment.vaderSentiment import SentimentIntensityAnalyzer"
   ]
  },
  {
   "cell_type": "code",
   "execution_count": 30,
   "metadata": {},
   "outputs": [],
   "source": [
    "analyzer = SentimentIntensityAnalyzer()"
   ]
  },
  {
   "cell_type": "code",
   "execution_count": 31,
   "metadata": {},
   "outputs": [
    {
     "data": {
      "text/html": [
       "<div>\n",
       "<style scoped>\n",
       "    .dataframe tbody tr th:only-of-type {\n",
       "        vertical-align: middle;\n",
       "    }\n",
       "\n",
       "    .dataframe tbody tr th {\n",
       "        vertical-align: top;\n",
       "    }\n",
       "\n",
       "    .dataframe thead th {\n",
       "        text-align: right;\n",
       "    }\n",
       "</style>\n",
       "<table border=\"1\" class=\"dataframe\">\n",
       "  <thead>\n",
       "    <tr style=\"text-align: right;\">\n",
       "      <th></th>\n",
       "      <th>0</th>\n",
       "      <th>1</th>\n",
       "    </tr>\n",
       "  </thead>\n",
       "  <tbody>\n",
       "    <tr>\n",
       "      <th>0</th>\n",
       "      <td>2018-06-16 17:40:46</td>\n",
       "      <td>b\"RT @BarrettBrown_: My thanks to the 130 back...</td>\n",
       "    </tr>\n",
       "    <tr>\n",
       "      <th>1</th>\n",
       "      <td>2018-06-16 17:40:15</td>\n",
       "      <td>b'RT @followerzUK: 3 Factors You Should Look F...</td>\n",
       "    </tr>\n",
       "    <tr>\n",
       "      <th>2</th>\n",
       "      <td>2018-06-16 17:40:04</td>\n",
       "      <td>b'Is #Facebook the future of #TV?...Facebook W...</td>\n",
       "    </tr>\n",
       "    <tr>\n",
       "      <th>3</th>\n",
       "      <td>2018-06-16 17:39:54</td>\n",
       "      <td>b'RT @followerzUK: Facebook Marketing Means En...</td>\n",
       "    </tr>\n",
       "    <tr>\n",
       "      <th>4</th>\n",
       "      <td>2018-06-16 17:39:36</td>\n",
       "      <td>b'RT @Anncostanza1: @realDonaldTrump This is b...</td>\n",
       "    </tr>\n",
       "  </tbody>\n",
       "</table>\n",
       "</div>"
      ],
      "text/plain": [
       "                     0                                                  1\n",
       "0  2018-06-16 17:40:46  b\"RT @BarrettBrown_: My thanks to the 130 back...\n",
       "1  2018-06-16 17:40:15  b'RT @followerzUK: 3 Factors You Should Look F...\n",
       "2  2018-06-16 17:40:04  b'Is #Facebook the future of #TV?...Facebook W...\n",
       "3  2018-06-16 17:39:54  b'RT @followerzUK: Facebook Marketing Means En...\n",
       "4  2018-06-16 17:39:36  b'RT @Anncostanza1: @realDonaldTrump This is b..."
      ]
     },
     "execution_count": 31,
     "metadata": {},
     "output_type": "execute_result"
    }
   ],
   "source": [
    "df = pd.read_csv(\"facebook_tweets.csv\", header=None)\n",
    "df.head()"
   ]
  },
  {
   "cell_type": "code",
   "execution_count": 32,
   "metadata": {},
   "outputs": [
    {
     "data": {
      "text/plain": [
       "{'compound': 0.4404, 'neg': 0.0, 'neu': 0.873, 'pos': 0.127}"
      ]
     },
     "execution_count": 32,
     "metadata": {},
     "output_type": "execute_result"
    }
   ],
   "source": [
    "results = analyzer.polarity_scores(df[1][0])\n",
    "results"
   ]
  },
  {
   "cell_type": "code",
   "execution_count": 33,
   "metadata": {},
   "outputs": [],
   "source": [
    "compound_list = []\n",
    "positive_list = []\n",
    "negative_list = []\n",
    "neutral_list = []\n",
    "\n",
    "for tweet in df[1]:\n",
    "\n",
    "    # Run Vader Analysis on each tweet\n",
    "    results = analyzer.polarity_scores(tweet)\n",
    "    compound = results[\"compound\"]\n",
    "    pos = results[\"pos\"]\n",
    "    neu = results[\"neu\"]\n",
    "    neg = results[\"neg\"]\n",
    "\n",
    "    # Add each value to the appropriate list\n",
    "    compound_list.append(compound)\n",
    "    positive_list.append(pos)\n",
    "    negative_list.append(neg)\n",
    "    neutral_list.append(neu)\n"
   ]
  },
  {
   "cell_type": "code",
   "execution_count": 34,
   "metadata": {},
   "outputs": [],
   "source": [
    "df['compound'] = compound_list\n",
    "df['positive'] = positive_list\n",
    "df['negative'] = negative_list\n",
    "df['neutral'] = neutral_list"
   ]
  },
  {
   "cell_type": "code",
   "execution_count": 35,
   "metadata": {},
   "outputs": [
    {
     "data": {
      "text/html": [
       "<div>\n",
       "<style scoped>\n",
       "    .dataframe tbody tr th:only-of-type {\n",
       "        vertical-align: middle;\n",
       "    }\n",
       "\n",
       "    .dataframe tbody tr th {\n",
       "        vertical-align: top;\n",
       "    }\n",
       "\n",
       "    .dataframe thead th {\n",
       "        text-align: right;\n",
       "    }\n",
       "</style>\n",
       "<table border=\"1\" class=\"dataframe\">\n",
       "  <thead>\n",
       "    <tr style=\"text-align: right;\">\n",
       "      <th></th>\n",
       "      <th>0</th>\n",
       "      <th>1</th>\n",
       "      <th>compound</th>\n",
       "      <th>positive</th>\n",
       "      <th>negative</th>\n",
       "      <th>neutral</th>\n",
       "    </tr>\n",
       "  </thead>\n",
       "  <tbody>\n",
       "    <tr>\n",
       "      <th>0</th>\n",
       "      <td>2018-06-16 17:40:46</td>\n",
       "      <td>b\"RT @BarrettBrown_: My thanks to the 130 back...</td>\n",
       "      <td>0.4404</td>\n",
       "      <td>0.127</td>\n",
       "      <td>0.0</td>\n",
       "      <td>0.873</td>\n",
       "    </tr>\n",
       "    <tr>\n",
       "      <th>1</th>\n",
       "      <td>2018-06-16 17:40:15</td>\n",
       "      <td>b'RT @followerzUK: 3 Factors You Should Look F...</td>\n",
       "      <td>0.0000</td>\n",
       "      <td>0.000</td>\n",
       "      <td>0.0</td>\n",
       "      <td>1.000</td>\n",
       "    </tr>\n",
       "    <tr>\n",
       "      <th>2</th>\n",
       "      <td>2018-06-16 17:40:04</td>\n",
       "      <td>b'Is #Facebook the future of #TV?...Facebook W...</td>\n",
       "      <td>0.0000</td>\n",
       "      <td>0.000</td>\n",
       "      <td>0.0</td>\n",
       "      <td>1.000</td>\n",
       "    </tr>\n",
       "    <tr>\n",
       "      <th>3</th>\n",
       "      <td>2018-06-16 17:39:54</td>\n",
       "      <td>b'RT @followerzUK: Facebook Marketing Means En...</td>\n",
       "      <td>0.6369</td>\n",
       "      <td>0.256</td>\n",
       "      <td>0.0</td>\n",
       "      <td>0.744</td>\n",
       "    </tr>\n",
       "    <tr>\n",
       "      <th>4</th>\n",
       "      <td>2018-06-16 17:39:36</td>\n",
       "      <td>b'RT @Anncostanza1: @realDonaldTrump This is b...</td>\n",
       "      <td>0.3367</td>\n",
       "      <td>0.107</td>\n",
       "      <td>0.0</td>\n",
       "      <td>0.893</td>\n",
       "    </tr>\n",
       "  </tbody>\n",
       "</table>\n",
       "</div>"
      ],
      "text/plain": [
       "                     0                                                  1  \\\n",
       "0  2018-06-16 17:40:46  b\"RT @BarrettBrown_: My thanks to the 130 back...   \n",
       "1  2018-06-16 17:40:15  b'RT @followerzUK: 3 Factors You Should Look F...   \n",
       "2  2018-06-16 17:40:04  b'Is #Facebook the future of #TV?...Facebook W...   \n",
       "3  2018-06-16 17:39:54  b'RT @followerzUK: Facebook Marketing Means En...   \n",
       "4  2018-06-16 17:39:36  b'RT @Anncostanza1: @realDonaldTrump This is b...   \n",
       "\n",
       "   compound  positive  negative  neutral  \n",
       "0    0.4404     0.127       0.0    0.873  \n",
       "1    0.0000     0.000       0.0    1.000  \n",
       "2    0.0000     0.000       0.0    1.000  \n",
       "3    0.6369     0.256       0.0    0.744  \n",
       "4    0.3367     0.107       0.0    0.893  "
      ]
     },
     "execution_count": 35,
     "metadata": {},
     "output_type": "execute_result"
    }
   ],
   "source": [
    "df.head()"
   ]
  },
  {
   "cell_type": "code",
   "execution_count": 36,
   "metadata": {},
   "outputs": [],
   "source": [
    "df.to_csv('facebook_twitter_scores_friday.csv', index=False)"
   ]
  },
  {
   "cell_type": "code",
   "execution_count": 37,
   "metadata": {},
   "outputs": [
    {
     "data": {
      "text/html": [
       "<div>\n",
       "<style scoped>\n",
       "    .dataframe tbody tr th:only-of-type {\n",
       "        vertical-align: middle;\n",
       "    }\n",
       "\n",
       "    .dataframe tbody tr th {\n",
       "        vertical-align: top;\n",
       "    }\n",
       "\n",
       "    .dataframe thead th {\n",
       "        text-align: right;\n",
       "    }\n",
       "</style>\n",
       "<table border=\"1\" class=\"dataframe\">\n",
       "  <thead>\n",
       "    <tr style=\"text-align: right;\">\n",
       "      <th></th>\n",
       "      <th>0</th>\n",
       "      <th>1</th>\n",
       "      <th>compound</th>\n",
       "      <th>positive</th>\n",
       "      <th>negative</th>\n",
       "      <th>neutral</th>\n",
       "    </tr>\n",
       "  </thead>\n",
       "  <tbody>\n",
       "    <tr>\n",
       "      <th>9968</th>\n",
       "      <td>2018-06-14 21:24:43</td>\n",
       "      <td>b'RT @givon_ben: How To Find The Right Social ...</td>\n",
       "      <td>0.0000</td>\n",
       "      <td>0.000</td>\n",
       "      <td>0.000</td>\n",
       "      <td>1.000</td>\n",
       "    </tr>\n",
       "    <tr>\n",
       "      <th>9969</th>\n",
       "      <td>2018-06-14 21:24:28</td>\n",
       "      <td>b'RT @BAFF_Network: 7 Content Marketing Myths ...</td>\n",
       "      <td>-0.2960</td>\n",
       "      <td>0.000</td>\n",
       "      <td>0.155</td>\n",
       "      <td>0.845</td>\n",
       "    </tr>\n",
       "    <tr>\n",
       "      <th>9970</th>\n",
       "      <td>2018-06-14 21:24:08</td>\n",
       "      <td>b'\\xf0\\x9f\\x94\\xa5#Facebook Fanpage Promo\\n\\n5...</td>\n",
       "      <td>0.8126</td>\n",
       "      <td>0.483</td>\n",
       "      <td>0.000</td>\n",
       "      <td>0.517</td>\n",
       "    </tr>\n",
       "    <tr>\n",
       "      <th>9971</th>\n",
       "      <td>2018-06-14 21:23:51</td>\n",
       "      <td>b'#schoolholidays I remember how I used to pan...</td>\n",
       "      <td>-0.6705</td>\n",
       "      <td>0.000</td>\n",
       "      <td>0.282</td>\n",
       "      <td>0.718</td>\n",
       "    </tr>\n",
       "    <tr>\n",
       "      <th>9972</th>\n",
       "      <td>2018-06-14 21:23:38</td>\n",
       "      <td>b'#Reddit beats #Facebook to become third most...</td>\n",
       "      <td>0.0000</td>\n",
       "      <td>0.000</td>\n",
       "      <td>0.000</td>\n",
       "      <td>1.000</td>\n",
       "    </tr>\n",
       "  </tbody>\n",
       "</table>\n",
       "</div>"
      ],
      "text/plain": [
       "                        0                                                  1  \\\n",
       "9968  2018-06-14 21:24:43  b'RT @givon_ben: How To Find The Right Social ...   \n",
       "9969  2018-06-14 21:24:28  b'RT @BAFF_Network: 7 Content Marketing Myths ...   \n",
       "9970  2018-06-14 21:24:08  b'\\xf0\\x9f\\x94\\xa5#Facebook Fanpage Promo\\n\\n5...   \n",
       "9971  2018-06-14 21:23:51  b'#schoolholidays I remember how I used to pan...   \n",
       "9972  2018-06-14 21:23:38  b'#Reddit beats #Facebook to become third most...   \n",
       "\n",
       "      compound  positive  negative  neutral  \n",
       "9968    0.0000     0.000     0.000    1.000  \n",
       "9969   -0.2960     0.000     0.155    0.845  \n",
       "9970    0.8126     0.483     0.000    0.517  \n",
       "9971   -0.6705     0.000     0.282    0.718  \n",
       "9972    0.0000     0.000     0.000    1.000  "
      ]
     },
     "execution_count": 37,
     "metadata": {},
     "output_type": "execute_result"
    }
   ],
   "source": [
    "df.tail()"
   ]
  },
  {
   "cell_type": "code",
   "execution_count": null,
   "metadata": {},
   "outputs": [],
   "source": []
  }
 ],
 "metadata": {
  "kernelspec": {
   "display_name": "Python 3",
   "language": "python",
   "name": "python3"
  },
  "language_info": {
   "codemirror_mode": {
    "name": "ipython",
    "version": 3
   },
   "file_extension": ".py",
   "mimetype": "text/x-python",
   "name": "python",
   "nbconvert_exporter": "python",
   "pygments_lexer": "ipython3",
   "version": "3.6.4"
  }
 },
 "nbformat": 4,
 "nbformat_minor": 2
}
