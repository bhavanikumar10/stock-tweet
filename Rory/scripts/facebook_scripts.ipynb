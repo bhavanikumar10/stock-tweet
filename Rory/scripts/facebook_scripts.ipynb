{
 "cells": [
  {
   "cell_type": "code",
   "execution_count": 1,
   "metadata": {},
   "outputs": [],
   "source": [
    "import pandas as pd\n",
    "import matplotlib.pyplot as plt\n",
    "import seaborn as sb\n",
    "from datetime import datetime "
   ]
  },
  {
   "cell_type": "code",
   "execution_count": 2,
   "metadata": {},
   "outputs": [],
   "source": [
    "df1 = pd.read_csv(\"facebook_twitter_scores_monday.csv\")\n",
    "df2 = pd.read_csv(\"facebook_twitter_scores_tuesday.csv\")\n",
    "df3 = pd.read_csv('facebook_twitter_scores_friday.csv')"
   ]
  },
  {
   "cell_type": "code",
   "execution_count": 3,
   "metadata": {},
   "outputs": [],
   "source": [
    "df1 = df1.rename(columns={\"0\": 'created_at', \"1\": \"tweet\"})\n",
    "df2 = df2.rename(columns={\"0\": 'created_at', \"1\": \"tweet\"})\n",
    "df3 = df3.rename(columns={\"0\": 'created_at', \"1\": \"tweet\"})"
   ]
  },
  {
   "cell_type": "code",
   "execution_count": 4,
   "metadata": {},
   "outputs": [],
   "source": [
    "df4 = df1.append(df2, ignore_index=True)\n",
    "df = df4.append(df3, ignore_index=True)\n"
   ]
  },
  {
   "cell_type": "code",
   "execution_count": 5,
   "metadata": {},
   "outputs": [],
   "source": [
    "df = df.drop_duplicates(subset=\"tweet\")"
   ]
  },
  {
   "cell_type": "code",
   "execution_count": 6,
   "metadata": {},
   "outputs": [],
   "source": [
    "df['created_at'] = df['created_at'].map(lambda x: datetime.strptime(x, '%Y-%m-%d %H:%M:%S'))"
   ]
  },
  {
   "cell_type": "code",
   "execution_count": 7,
   "metadata": {},
   "outputs": [
    {
     "data": {
      "text/html": [
       "<div>\n",
       "<style scoped>\n",
       "    .dataframe tbody tr th:only-of-type {\n",
       "        vertical-align: middle;\n",
       "    }\n",
       "\n",
       "    .dataframe tbody tr th {\n",
       "        vertical-align: top;\n",
       "    }\n",
       "\n",
       "    .dataframe thead th {\n",
       "        text-align: right;\n",
       "    }\n",
       "</style>\n",
       "<table border=\"1\" class=\"dataframe\">\n",
       "  <thead>\n",
       "    <tr style=\"text-align: right;\">\n",
       "      <th></th>\n",
       "      <th>created_at</th>\n",
       "      <th>tweet</th>\n",
       "      <th>compound</th>\n",
       "      <th>positive</th>\n",
       "      <th>negative</th>\n",
       "      <th>neutral</th>\n",
       "      <th>date</th>\n",
       "      <th>time</th>\n",
       "      <th>hour</th>\n",
       "      <th>day</th>\n",
       "    </tr>\n",
       "  </thead>\n",
       "  <tbody>\n",
       "    <tr>\n",
       "      <th>0</th>\n",
       "      <td>2018-06-19 00:57:26</td>\n",
       "      <td>b'The Onion is on a crusade against Mark Zucke...</td>\n",
       "      <td>-0.4588</td>\n",
       "      <td>0.000</td>\n",
       "      <td>0.158</td>\n",
       "      <td>0.842</td>\n",
       "      <td>2018-06-19</td>\n",
       "      <td>00:57:26</td>\n",
       "      <td>0</td>\n",
       "      <td>19</td>\n",
       "    </tr>\n",
       "    <tr>\n",
       "      <th>1</th>\n",
       "      <td>2018-06-19 00:57:20</td>\n",
       "      <td>b'RT @ArunacomVoip: Big #Tech is hoping to buy...</td>\n",
       "      <td>0.4215</td>\n",
       "      <td>0.123</td>\n",
       "      <td>0.000</td>\n",
       "      <td>0.877</td>\n",
       "      <td>2018-06-19</td>\n",
       "      <td>00:57:20</td>\n",
       "      <td>0</td>\n",
       "      <td>19</td>\n",
       "    </tr>\n",
       "    <tr>\n",
       "      <th>2</th>\n",
       "      <td>2018-06-19 00:57:11</td>\n",
       "      <td>b'RT @ArunacomVoip: #Facebook wants you to bel...</td>\n",
       "      <td>0.4404</td>\n",
       "      <td>0.116</td>\n",
       "      <td>0.000</td>\n",
       "      <td>0.884</td>\n",
       "      <td>2018-06-19</td>\n",
       "      <td>00:57:11</td>\n",
       "      <td>0</td>\n",
       "      <td>19</td>\n",
       "    </tr>\n",
       "    <tr>\n",
       "      <th>3</th>\n",
       "      <td>2018-06-19 00:57:09</td>\n",
       "      <td>b'Love Speculative Fiction? #Win a $100 #Amazo...</td>\n",
       "      <td>0.1027</td>\n",
       "      <td>0.085</td>\n",
       "      <td>0.000</td>\n",
       "      <td>0.915</td>\n",
       "      <td>2018-06-19</td>\n",
       "      <td>00:57:09</td>\n",
       "      <td>0</td>\n",
       "      <td>19</td>\n",
       "    </tr>\n",
       "    <tr>\n",
       "      <th>4</th>\n",
       "      <td>2018-06-19 00:56:54</td>\n",
       "      <td>b'And the littles got me this guy... #fathersd...</td>\n",
       "      <td>0.0000</td>\n",
       "      <td>0.000</td>\n",
       "      <td>0.000</td>\n",
       "      <td>1.000</td>\n",
       "      <td>2018-06-19</td>\n",
       "      <td>00:56:54</td>\n",
       "      <td>0</td>\n",
       "      <td>19</td>\n",
       "    </tr>\n",
       "  </tbody>\n",
       "</table>\n",
       "</div>"
      ],
      "text/plain": [
       "           created_at                                              tweet  \\\n",
       "0 2018-06-19 00:57:26  b'The Onion is on a crusade against Mark Zucke...   \n",
       "1 2018-06-19 00:57:20  b'RT @ArunacomVoip: Big #Tech is hoping to buy...   \n",
       "2 2018-06-19 00:57:11  b'RT @ArunacomVoip: #Facebook wants you to bel...   \n",
       "3 2018-06-19 00:57:09  b'Love Speculative Fiction? #Win a $100 #Amazo...   \n",
       "4 2018-06-19 00:56:54  b'And the littles got me this guy... #fathersd...   \n",
       "\n",
       "   compound  positive  negative  neutral        date      time  hour  day  \n",
       "0   -0.4588     0.000     0.158    0.842  2018-06-19  00:57:26     0   19  \n",
       "1    0.4215     0.123     0.000    0.877  2018-06-19  00:57:20     0   19  \n",
       "2    0.4404     0.116     0.000    0.884  2018-06-19  00:57:11     0   19  \n",
       "3    0.1027     0.085     0.000    0.915  2018-06-19  00:57:09     0   19  \n",
       "4    0.0000     0.000     0.000    1.000  2018-06-19  00:56:54     0   19  "
      ]
     },
     "execution_count": 7,
     "metadata": {},
     "output_type": "execute_result"
    }
   ],
   "source": [
    "df[\"date\"] = df['created_at'].map(lambda x: datetime.date(x))\n",
    "df[\"time\"] = df['created_at'].map(lambda x: datetime.time(x))\n",
    "df[\"hour\"] = df['time'].map(lambda x: x.hour)\n",
    "df['day'] = df['date'].map(lambda x: x.day)\n",
    "df.head()"
   ]
  },
  {
   "cell_type": "code",
   "execution_count": 8,
   "metadata": {},
   "outputs": [],
   "source": [
    "monday = df[df[\"day\"] == 18]\n",
    "tuesday = df[df[\"day\"] == 19]\n",
    "friday = df[df[\"day\"] == 15]"
   ]
  },
  {
   "cell_type": "code",
   "execution_count": null,
   "metadata": {},
   "outputs": [],
   "source": []
  },
  {
   "cell_type": "code",
   "execution_count": 9,
   "metadata": {},
   "outputs": [
    {
     "data": {
      "image/png": "[encoded data removed]",
      "text/plain": [
       "<matplotlib.figure.Figure at 0x204cf95da90>"
      ]
     },
     "metadata": {},
     "output_type": "display_data"
    }
   ],
   "source": [
    "# Plot Friday's tweet polarity\n",
    "\n",
    "# create the variables\n",
    "friday_means = friday.groupby(friday['hour']).mean()\n",
    "friday_means = friday_means.reset_index()\n",
    "\n",
    "#plot\n",
    "plt.plot(friday_means['hour'], friday_means['compound'])\n",
    "plt.ylim(-0.5,0.5)\n",
    "plt.xlim(0,24)\n",
    "plt.hlines(0, 0, 24)\n",
    "plt.axvline(9, 1, -1, c='aquamarine', linestyle='dashed')\n",
    "plt.axvline(16, 1, -1, c='aquamarine', linestyle='dashed')\n",
    "plt.title(\"Compound Sentiment of #facebook Tweets\\nFriday, June 15\")\n",
    "plt.xlabel(\"Hours\")\n",
    "plt.ylabel(\"Tweet Polarity\")\n",
    "\n",
    "plt.savefig('fb_polarity_friday.png')"
   ]
  },
  {
   "cell_type": "code",
   "execution_count": 10,
   "metadata": {},
   "outputs": [
    {
     "data": {
      "image/png": "[encoded data removed]",
      "text/plain": [
       "<matplotlib.figure.Figure at 0x204cf95d080>"
      ]
     },
     "metadata": {},
     "output_type": "display_data"
    }
   ],
   "source": [
    "# plot Monday's tweet polarity\n",
    "\n",
    "#create grouped dataframes\n",
    "monday_means = monday.groupby(monday['hour']).mean()\n",
    "monday_means = monday_means.reset_index()\n",
    "\n",
    "plt.plot(monday_means['hour'], monday_means['compound'])\n",
    "plt.ylim(-0.5,0.5)\n",
    "plt.xlim(0,24)\n",
    "plt.hlines(0, 0, 24)\n",
    "plt.axvline(9, 1, -1, c='aquamarine', linestyle='dashed')\n",
    "plt.axvline(16, 1, -1, c='aquamarine', linestyle='dashed')\n",
    "plt.title(\"Compound Sentiment of #facebook Tweets\\nMonday, June 18\")\n",
    "plt.xlabel(\"Hours\")\n",
    "plt.ylabel(\"Tweet Polarity\")\n",
    "\n",
    "plt.savefig('fb_polarity_monday.png')"
   ]
  },
  {
   "cell_type": "code",
   "execution_count": 11,
   "metadata": {},
   "outputs": [
    {
     "data": {
      "image/png": "[encoded data removed]",
      "text/plain": [
       "<matplotlib.figure.Figure at 0x18918b72eb8>"
      ]
     },
     "metadata": {},
     "output_type": "display_data"
    }
   ],
   "source": [
    "# plot Tuesday's tweet polarity\n",
    "\n",
    "#create grouped dataframes\n",
    "tuesday_means = tuesday.groupby(tuesday['hour']).mean()\n",
    "tuesday_means = tuesday_means.reset_index()\n",
    "\n",
    "plt.plot(tuesday_means['hour'], tuesday_means['compound'])\n",
    "plt.ylim(-0.4,0.7)\n",
    "plt.xlim(0,24)\n",
    "plt.hlines(0, 0, 24)\n",
    "plt.axvline(9, 1, -1, c='aquamarine', linestyle='dashed')\n",
    "plt.axvline(16, 1, -1, c='aquamarine', linestyle='dashed')\n",
    "plt.title(\"Compound Sentiment of #facebook Tweets\\nTuesday, June 19\")\n",
    "plt.xlabel(\"Hours\")\n",
    "plt.ylabel(\"Tweet Polarity\")\n",
    "\n",
    "plt.savefig('fb_polarity_tuesday.png')"
   ]
  },
  {
   "cell_type": "code",
   "execution_count": null,
   "metadata": {},
   "outputs": [],
   "source": []
  }
 ],
 "metadata": {
  "kernelspec": {
   "display_name": "Python 3",
   "language": "python",
   "name": "python3"
  },
  "language_info": {
   "codemirror_mode": {
    "name": "ipython",
    "version": 3
   },
   "file_extension": ".py",
   "mimetype": "text/x-python",
   "name": "python",
   "nbconvert_exporter": "python",
   "pygments_lexer": "ipython3",
   "version": "3.6.4"
  }
 },
 "nbformat": 4,
 "nbformat_minor": 2
}
