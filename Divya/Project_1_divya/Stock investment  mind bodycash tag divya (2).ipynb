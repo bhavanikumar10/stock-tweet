{
 "cells": [
  {
   "cell_type": "code",
   "execution_count": 1,
   "metadata": {},
   "outputs": [],
   "source": [
    "# Import and Initialize Sentiment Analyzer\n",
    "from vaderSentiment.vaderSentiment import SentimentIntensityAnalyzer\n",
    "analyzer = SentimentIntensityAnalyzer()"
   ]
  },
  {
   "cell_type": "code",
   "execution_count": 2,
   "metadata": {},
   "outputs": [],
   "source": [
    "# Importing Dependencies\n",
    "import pandas as pd\n",
    "import json\n",
    "import tweepy\n",
    "import matplotlib.pyplot as plt\n",
    "import numpy as np \n",
    "from  datetime import datetime\n",
    "import csv\n",
    "from config import consumer_key, consumer_secret, access_token, access_token_secret\n",
    "from vaderSentiment.vaderSentiment import SentimentIntensityAnalyzer"
   ]
  },
  {
   "cell_type": "code",
   "execution_count": 3,
   "metadata": {},
   "outputs": [],
   "source": [
    "# Twitter Credentials\n",
    "auth = tweepy.OAuthHandler(consumer_key, consumer_secret)\n",
    "auth.set_access_token(access_token, access_token_secret)\n",
    "api = tweepy.API(auth,wait_on_rate_limit=True)"
   ]
  },
  {
   "cell_type": "code",
   "execution_count": 4,
   "metadata": {},
   "outputs": [],
   "source": [
    "search_term = \"$mb\""
   ]
  },
  {
   "cell_type": "code",
   "execution_count": 5,
   "metadata": {},
   "outputs": [],
   "source": [
    "# Open/Create a file to append data\n",
    "csvFile = open('mindbody_cashtags_tweets.csv', 'w')"
   ]
  },
  {
   "cell_type": "code",
   "execution_count": 6,
   "metadata": {},
   "outputs": [],
   "source": [
    "#Use csv Writer\n",
    "csvWriter = csv.writer(csvFile)"
   ]
  },
  {
   "cell_type": "code",
   "execution_count": 7,
   "metadata": {},
   "outputs": [
    {
     "name": "stdout",
     "output_type": "stream",
     "text": [
      "2018-06-20 23:59:45 Buying $MB tomorrow\n",
      "2018-06-20 22:38:52 MINDBODY Inc $MB Expected to Post Quarterly Sales of $60.48 Million https://t.co/h3vANz9kiJ\n",
      "2018-06-20 22:37:45 MINDBODY Inc $MB Expected to Post Quarterly Sales of $60.48 Million https://t.co/KeCRw1984u\n",
      "2018-06-20 22:34:27 MINDBODY Inc $MB Expected to Post Earnings of -$0.08 Per Share https://t.co/l042SOtj8X\n",
      "2018-06-20 22:00:37 20dh in leading stocks scan $CGC, $STAA, $COLL, $ARRY, $MLNX, $WGO, $BOX, $MB, $ONCE, $EGLE, $DEST https://t.co/vv8NDLp7y1\n",
      "2018-06-20 17:29:27 $MB nice breakout\n",
      "\n",
      "https://t.co/3K1cpFZ3Tf https://t.co/jxnSBX4TsR\n",
      "2018-06-20 17:11:58 MINDBODY $MB Stock Rating Upgraded by TheStreet https://t.co/8ZuDe17BtA\n",
      "2018-06-20 15:30:40 MINDBODY $MB Upgraded at TheStreet https://t.co/ZhKtf8R6Ju\n",
      "2018-06-20 14:59:11 RT @PreeseInnaBooth: 🙅🏽‍♂️🙅🏽‍♂️🙅🏽‍♂️✋\n",
      "NEW VIDEO DROPPING THIS WEEK🤭♨️\n",
      "\n",
      "$MB NEED I.T \n",
      "•\n",
      "Straight Heat 🔥🔥🔥🗣\n",
      "FUCK THAT ROLLIE &amp; THAT A|P💮 http…\n",
      "2018-06-20 13:28:54 (Watch In HD) $MB - Need It (Directed by King Tyme) https://t.co/JBifcRMmji via @YouTube\n",
      "2018-06-20 13:16:45 MINDBODY $MB Stock Rating Upgraded by TheStreet https://t.co/gFopkNRLjJ\n",
      "2018-06-20 11:26:29 MINDBODY $MB Upgraded at TheStreet https://t.co/5alxZursob\n",
      "2018-06-20 11:24:47 MINDBODY $MB Upgraded at TheStreet https://t.co/qJseGbvtRx\n",
      "2018-06-20 03:45:08 via → https://t.co/WYqQvhWs2v $MB ready for next leg up https://t.co/ROMaE0GOBJ https://t.co/d4gVnA5DPf\n",
      "2018-06-20 03:43:31 $MB ready for next leg up - #MB chart https://t.co/36rIqQ3OPa\n",
      "2018-06-20 03:43:31 $MB ready for next leg up $MB https://t.co/bHnBsujSms\n",
      "2018-06-20 03:31:00 MINDBODY $MB and Tintri $TNTR Head to Head Comparison https://t.co/QaXaPfqdXU\n",
      "2018-06-20 03:27:23 MINDBODY $MB and Tintri $TNTR Head to Head Comparison https://t.co/oWzXrq6sYy #stocks\n",
      "2018-06-20 03:26:00 MINDBODY $MB and Tintri $TNTR Head to Head Comparison https://t.co/q754eGxhab\n",
      "2018-06-19 23:15:13 5-star analyst Brent Bracelin from KeyBanc maintained a Buy on $MB.  https://t.co/dW50jWeHG0\n",
      "2018-06-19 20:44:48 some setups that have weathered the recent storm...\n",
      "\n",
      "$FOLD\n",
      "$MB\n",
      "$RUSHA\n",
      "$NGHC https://t.co/vxZtdD7M1w\n",
      "2018-06-19 14:49:44 RT @PreeseInnaBooth: (Watch In HD) $MB - Need It (Directed by King Tyme) https://t.co/JBifcRMmji via @YouTube\n",
      "2018-06-19 14:37:13 (Watch In HD) $MB - Need It (Directed by King Tyme) https://t.co/JBifcRMmji via @YouTube\n",
      "2018-06-19 02:43:10 Zacks: Analysts Anticipate MINDBODY Inc $MB Will Post Quarterly Sales of $60.48 Million https://t.co/8b0ur0eWhF\n",
      "2018-06-19 02:41:53 Zacks: Brokerages Anticipate MINDBODY Inc $MB Will Announce Earnings of -$0.08 Per Share https://t.co/RMCg5Xbscb\n",
      "2018-06-19 02:41:30 Zacks: Analysts Anticipate MINDBODY Inc $MB Will Post Quarterly Sales of $60.48 Million https://t.co/HH71lRKlMT\n",
      "2018-06-18 18:34:14 Smartsheet $SMAR vs. MINDBODY $MB Financial Comparison https://t.co/pAmFRgquSk\n",
      "2018-06-17 13:05:16 Every stock finished higher this week! For more on why I’m invested in these companies go to… https://t.co/hSvK8lGYjD\n",
      "2018-06-16 18:25:06 Are Analysts Bullish MINDBODY, Inc. $MB After Last Week? https://t.co/osDPRNsZ33\n",
      "2018-06-16 15:01:09 MINDBODY $MB versus Smartsheet $SMAR Head to Head Review https://t.co/4adshUDEoq\n",
      "2018-06-16 15:00:29 Critical Survey: MINDBODY $MB versus Smartsheet $SMAR https://t.co/AmfldU388f\n",
      "2018-06-16 11:05:56 -$0.08 EPS Expected for MINDBODY Inc $MB This Quarter https://t.co/7yngFRmpo4\n",
      "2018-06-16 10:01:42 -$0.08 Earnings Per Share Expected for MINDBODY Inc $MB This Quarter https://t.co/igz8w3bhsx\n",
      "2018-06-16 09:59:52 -$0.08 EPS Expected for MINDBODY Inc $MB This Quarter https://t.co/KH4yB83IJX\n",
      "2018-06-15 20:16:30 RT @OMillionaires: The Top 5 Stocks for 2018 : https://t.co/OWeXwfqRfF  $TRUP $ALGN $GBT $CUTR $CTRL $WIX $MB $VRNS $ISRG $NVRO $AMED $CMG\n",
      "2018-06-15 06:37:23 $60.48 Million in Sales Expected for MINDBODY Inc $MB This Quarter https://t.co/7PZHmUtAIf #stocks\n",
      "2018-06-15 06:35:55 $60.48 Million in Sales Expected for MINDBODY Inc $MB This Quarter https://t.co/DI4WYC9Nn1\n",
      "2018-06-14 09:45:22 Mixing indicators gave good returns when backtested. This mix signals Bearish on $MB https://t.co/qsSfGPLhI3 https://t.co/aMt6XjzpMS\n",
      "2018-06-14 07:54:08 Head to Head Review: Smartsheet $SMAR versus MINDBODY $MB https://t.co/jBOfAX6Yx7\n",
      "2018-06-14 07:39:27 Top Gainers:\n",
      "\n",
      "$VUL, $MB, $MED, $BCB, $ION\n",
      "\n",
      "Top Losers:\n",
      "\n",
      "$STR, $AB, $LPZ, $IMP, $PX https://t.co/aLoL4VWP1B\n",
      "2018-06-13 22:32:01 MINDBODY Inc $MB Receives Average Rating of “Buy” from Analysts https://t.co/n7ygrc9CaD\n",
      "2018-06-13 21:16:17 Brokerages Expect MINDBODY Inc $MB Will Announce Earnings of -$0.08 Per Share https://t.co/7X50X6kbQg\n",
      "2018-06-13 21:16:04 Brokerages Expect MINDBODY Inc $MB Will Announce Earnings of -$0.08 Per Share https://t.co/A9CePGjogy #stocks\n",
      "2018-06-13 00:43:07 $MB:\n",
      "\n",
      "New Insider Filing on\n",
      "\n",
      "10%+ Owner\n",
      "\n",
      "LUXOR CAPITAL GROUP, LP:\n",
      "\n",
      "https://t.co/dRpSPrcRdV\n",
      "2018-06-13 00:08:39 $MB MINDBODY, Inc. SEC Filing: Form 4 https://t.co/jRWxq9cYtJ\n",
      "2018-06-12 21:06:22 $MB MINDBODY, Inc. SEC Filing: Form 8-K https://t.co/Hx5ezLLqTm\n",
      "2018-06-11 18:53:03 Brokerages Set MINDBODY Inc $MB Target Price at $36.72 https://t.co/OTFEGtX9Ji\n",
      "2018-06-11 18:49:24 Brokerages Set MINDBODY Inc $MB Target Price at $36.72 https://t.co/wSWVq2pPGh\n",
      "2018-06-11 18:35:06 In honor of @TMFJMo, I started my own basket.  It’s the War on White Collar basket.  Companies streamline services… https://t.co/le1BYmtwwX\n",
      "2018-06-11 13:47:17 Contrasting MINDBODY $MB and Smartsheet $SMAR https://t.co/Z4hKz2UHTI\n",
      "2018-06-11 13:46:49 Contrasting MINDBODY $MB and Smartsheet $SMAR https://t.co/jMh1g5dsMT #stocks\n",
      "2018-06-11 13:19:29 Contrasting MINDBODY $MB and Smartsheet $SMAR https://t.co/uh9oC7v5j3\n",
      "2018-06-11 12:48:24 I added a video to a @YouTube playlist https://t.co/ojHDjtYWD9 (Watch In HD) $MB - Plottin (Directed by King Tyme)\n"
     ]
    }
   ],
   "source": [
    "for tweet in tweepy.Cursor(api.search,q=search_term, lang=\"en\").items(10000):\n",
    "    print (tweet.created_at, tweet.text)\n",
    "    csvWriter.writerow([tweet.created_at, tweet.text.encode('utf-8')])"
   ]
  },
  {
   "cell_type": "code",
   "execution_count": 9,
   "metadata": {},
   "outputs": [],
   "source": [
    "csvFile.close()"
   ]
  },
  {
   "cell_type": "code",
   "execution_count": 16,
   "metadata": {},
   "outputs": [],
   "source": [
    "mb_name = 'mindbody_cashtags_tweets.csv'\n",
    "mb = pd.read_csv(mb_name, header=None)"
   ]
  },
  {
   "cell_type": "code",
   "execution_count": 17,
   "metadata": {},
   "outputs": [],
   "source": [
    "analyzer = SentimentIntensityAnalyzer()\n",
    "compound_list = []\n",
    "positive_list = []\n",
    "negative_list = []\n",
    "neutral_list = []\n",
    "\n",
    "\n",
    "for tweet in mb[1]:\n",
    "    # Run Vader Analysis on each tweet\n",
    "    results = analyzer.polarity_scores(tweet)\n",
    "    compound = results[\"compound\"]\n",
    "    pos = results[\"pos\"]\n",
    "    neu = results[\"neu\"]\n",
    "    neg = results[\"neg\"]\n",
    "    # Add each value to the appropriate list\n",
    "    compound_list.append(compound)\n",
    "    positive_list.append(pos)\n",
    "    negative_list.append(neg)\n",
    "    neutral_list.append(neu)\n",
    "    \n",
    "mb['compound'] = compound_list\n",
    "mb['positive'] = positive_list\n",
    "mb['negative'] = negative_list\n",
    "mb['neutral'] = neutral_list\n"
   ]
  },
  {
   "cell_type": "code",
   "execution_count": 22,
   "metadata": {},
   "outputs": [
    {
     "data": {
      "text/plain": [
       "Date         object\n",
       "Info         object\n",
       "compound    float64\n",
       "positive    float64\n",
       "negative    float64\n",
       "neutral     float64\n",
       "dtype: object"
      ]
     },
     "execution_count": 22,
     "metadata": {},
     "output_type": "execute_result"
    }
   ],
   "source": [
    "# make col name 0 and 1 --> 'Date' and 'Info'\n",
    "mb.rename(columns={0:'Date', 1:'Info'}, inplace=True)\n",
    "mb.dtypes\n",
    "\n",
    "len(compound_list), len(positive_list), len(negative_list), len(neutral_list)\n",
    "mb.dtypes"
   ]
  },
  {
   "cell_type": "markdown",
   "metadata": {},
   "source": [
    "mb.head(53)"
   ]
  },
  {
   "cell_type": "code",
   "execution_count": 23,
   "metadata": {},
   "outputs": [],
   "source": [
    "# convert 0 to datetime\n",
    "mb['Date'] = pd.to_datetime(mb['Date'])"
   ]
  },
  {
   "cell_type": "code",
   "execution_count": 24,
   "metadata": {},
   "outputs": [
    {
     "data": {
      "text/html": [
       "<div>\n",
       "<style scoped>\n",
       "    .dataframe tbody tr th:only-of-type {\n",
       "        vertical-align: middle;\n",
       "    }\n",
       "\n",
       "    .dataframe tbody tr th {\n",
       "        vertical-align: top;\n",
       "    }\n",
       "\n",
       "    .dataframe thead th {\n",
       "        text-align: right;\n",
       "    }\n",
       "</style>\n",
       "<table border=\"1\" class=\"dataframe\">\n",
       "  <thead>\n",
       "    <tr style=\"text-align: right;\">\n",
       "      <th></th>\n",
       "      <th>Date</th>\n",
       "      <th>Info</th>\n",
       "      <th>compound</th>\n",
       "      <th>positive</th>\n",
       "      <th>negative</th>\n",
       "      <th>neutral</th>\n",
       "      <th>Day</th>\n",
       "      <th>Hour</th>\n",
       "    </tr>\n",
       "  </thead>\n",
       "  <tbody>\n",
       "    <tr>\n",
       "      <th>7</th>\n",
       "      <td>2018-06-20 15:30:40</td>\n",
       "      <td>b'MINDBODY $MB Upgraded at TheStreet https://t...</td>\n",
       "      <td>0.0</td>\n",
       "      <td>0.0</td>\n",
       "      <td>0.0</td>\n",
       "      <td>1.0</td>\n",
       "      <td>20</td>\n",
       "      <td>15</td>\n",
       "    </tr>\n",
       "    <tr>\n",
       "      <th>8</th>\n",
       "      <td>2018-06-20 14:59:11</td>\n",
       "      <td>b'RT @PreeseInnaBooth: \\xf0\\x9f\\x99\\x85\\xf0\\x9...</td>\n",
       "      <td>0.0</td>\n",
       "      <td>0.0</td>\n",
       "      <td>0.0</td>\n",
       "      <td>1.0</td>\n",
       "      <td>20</td>\n",
       "      <td>14</td>\n",
       "    </tr>\n",
       "    <tr>\n",
       "      <th>9</th>\n",
       "      <td>2018-06-20 13:28:54</td>\n",
       "      <td>b'(Watch In HD) $MB - Need It (Directed by Kin...</td>\n",
       "      <td>0.0</td>\n",
       "      <td>0.0</td>\n",
       "      <td>0.0</td>\n",
       "      <td>1.0</td>\n",
       "      <td>20</td>\n",
       "      <td>13</td>\n",
       "    </tr>\n",
       "    <tr>\n",
       "      <th>10</th>\n",
       "      <td>2018-06-20 13:16:45</td>\n",
       "      <td>b'MINDBODY $MB Stock Rating Upgraded by TheStr...</td>\n",
       "      <td>0.0</td>\n",
       "      <td>0.0</td>\n",
       "      <td>0.0</td>\n",
       "      <td>1.0</td>\n",
       "      <td>20</td>\n",
       "      <td>13</td>\n",
       "    </tr>\n",
       "    <tr>\n",
       "      <th>11</th>\n",
       "      <td>2018-06-20 11:26:29</td>\n",
       "      <td>b'MINDBODY $MB Upgraded at TheStreet https://t...</td>\n",
       "      <td>0.0</td>\n",
       "      <td>0.0</td>\n",
       "      <td>0.0</td>\n",
       "      <td>1.0</td>\n",
       "      <td>20</td>\n",
       "      <td>11</td>\n",
       "    </tr>\n",
       "  </tbody>\n",
       "</table>\n",
       "</div>"
      ],
      "text/plain": [
       "                  Date                                               Info  \\\n",
       "7  2018-06-20 15:30:40  b'MINDBODY $MB Upgraded at TheStreet https://t...   \n",
       "8  2018-06-20 14:59:11  b'RT @PreeseInnaBooth: \\xf0\\x9f\\x99\\x85\\xf0\\x9...   \n",
       "9  2018-06-20 13:28:54  b'(Watch In HD) $MB - Need It (Directed by Kin...   \n",
       "10 2018-06-20 13:16:45  b'MINDBODY $MB Stock Rating Upgraded by TheStr...   \n",
       "11 2018-06-20 11:26:29  b'MINDBODY $MB Upgraded at TheStreet https://t...   \n",
       "\n",
       "    compound  positive  negative  neutral  Day  Hour  \n",
       "7        0.0       0.0       0.0      1.0   20    15  \n",
       "8        0.0       0.0       0.0      1.0   20    14  \n",
       "9        0.0       0.0       0.0      1.0   20    13  \n",
       "10       0.0       0.0       0.0      1.0   20    13  \n",
       "11       0.0       0.0       0.0      1.0   20    11  "
      ]
     },
     "execution_count": 24,
     "metadata": {},
     "output_type": "execute_result"
    }
   ],
   "source": [
    "mb['Day']= mb['Date'].dt.day\n",
    "mb['Hour'] = mb['Date'].dt.hour\n",
    "mb2 = mb.loc[ mb.Hour.isin(range(9,17)) ]  # keep only hours from 9am .. 4pm (hour == 16)\n",
    "mb2.head()"
   ]
  },
  {
   "cell_type": "code",
   "execution_count": 25,
   "metadata": {},
   "outputs": [],
   "source": [
    "pos_mean = mb2.groupby(['Day','Hour'])['positive'].mean()\n",
    "neg_mean = mb2.groupby(['Day','Hour'])['negative'].mean()\n",
    "sent = pos_mean - neg_mean\n",
    "dates = mb2.groupby(['Day','Hour'])['Date'].first()"
   ]
  },
  {
   "cell_type": "code",
   "execution_count": 27,
   "metadata": {},
   "outputs": [
    {
     "data": {
      "text/plain": [
       "[<matplotlib.lines.Line2D at 0x2d3103f6588>]"
      ]
     },
     "execution_count": 27,
     "metadata": {},
     "output_type": "execute_result"
    },
    {
     "data": {
      "image/png": "[encoded data removed]",
      "text/plain": [
       "<matplotlib.figure.Figure at 0x2d30d363390>"
      ]
     },
     "metadata": {},
     "output_type": "display_data"
    }
   ],
   "source": [
    "from matplotlib import pyplot as plt\n",
    "%matplotlib inline\n",
    "plt.title('MindBody Sentiment from Cashtag')\n",
    "plt.plot(dates, sent)"
   ]
  },
  {
   "cell_type": "code",
   "execution_count": 30,
   "metadata": {},
   "outputs": [
    {
     "data": {
      "text/plain": [
       "array([20, 19, 18, 17, 16, 15, 14, 13, 12, 11], dtype=int64)"
      ]
     },
     "execution_count": 30,
     "metadata": {},
     "output_type": "execute_result"
    }
   ],
   "source": [
    "mb['Day'].unique()"
   ]
  },
  {
   "cell_type": "code",
   "execution_count": 31,
   "metadata": {},
   "outputs": [
    {
     "data": {
      "text/plain": [
       "Day  Hour\n",
       "11   12      0.000\n",
       "     13      0.000\n",
       "14   9       0.172\n",
       "16   9       0.000\n",
       "     10      0.167\n",
       "     11      0.000\n",
       "     15      0.000\n",
       "17   13      0.000\n",
       "19   14      0.000\n",
       "20   11      0.000\n",
       "     13      0.000\n",
       "     14      0.000\n",
       "     15      0.000\n",
       "Name: positive, dtype: float64"
      ]
     },
     "execution_count": 31,
     "metadata": {},
     "output_type": "execute_result"
    }
   ],
   "source": [
    "pos_mean"
   ]
  },
  {
   "cell_type": "code",
   "execution_count": 32,
   "metadata": {},
   "outputs": [
    {
     "data": {
      "text/plain": [
       "Day  Hour\n",
       "11   12      0.0\n",
       "     13      0.0\n",
       "14   9       0.0\n",
       "16   9       0.0\n",
       "     10      0.0\n",
       "     11      0.0\n",
       "     15      0.0\n",
       "17   13      0.0\n",
       "19   14      0.0\n",
       "20   11      0.0\n",
       "     13      0.0\n",
       "     14      0.0\n",
       "     15      0.0\n",
       "Name: negative, dtype: float64"
      ]
     },
     "execution_count": 32,
     "metadata": {},
     "output_type": "execute_result"
    }
   ],
   "source": [
    "neg_mean"
   ]
  },
  {
   "cell_type": "code",
   "execution_count": null,
   "metadata": {},
   "outputs": [],
   "source": []
  },
  {
   "cell_type": "code",
   "execution_count": null,
   "metadata": {},
   "outputs": [],
   "source": []
  },
  {
   "cell_type": "code",
   "execution_count": null,
   "metadata": {},
   "outputs": [],
   "source": []
  },
  {
   "cell_type": "code",
   "execution_count": null,
   "metadata": {},
   "outputs": [],
   "source": []
  },
  {
   "cell_type": "code",
   "execution_count": null,
   "metadata": {},
   "outputs": [],
   "source": [
    "\n",
    "    "
   ]
  },
  {
   "cell_type": "code",
   "execution_count": null,
   "metadata": {},
   "outputs": [],
   "source": [
    "\n"
   ]
  },
  {
   "cell_type": "code",
   "execution_count": null,
   "metadata": {},
   "outputs": [],
   "source": []
  },
  {
   "cell_type": "code",
   "execution_count": null,
   "metadata": {},
   "outputs": [],
   "source": []
  },
  {
   "cell_type": "code",
   "execution_count": null,
   "metadata": {},
   "outputs": [],
   "source": []
  },
  {
   "cell_type": "code",
   "execution_count": null,
   "metadata": {},
   "outputs": [],
   "source": []
  },
  {
   "cell_type": "code",
   "execution_count": null,
   "metadata": {},
   "outputs": [],
   "source": []
  },
  {
   "cell_type": "code",
   "execution_count": null,
   "metadata": {},
   "outputs": [],
   "source": []
  }
 ],
 "metadata": {
  "kernelspec": {
   "display_name": "Python 3",
   "language": "python",
   "name": "python3"
  },
  "language_info": {
   "codemirror_mode": {
    "name": "ipython",
    "version": 3
   },
   "file_extension": ".py",
   "mimetype": "text/x-python",
   "name": "python",
   "nbconvert_exporter": "python",
   "pygments_lexer": "ipython3",
   "version": "3.6.4"
  }
 },
 "nbformat": 4,
 "nbformat_minor": 2
}
